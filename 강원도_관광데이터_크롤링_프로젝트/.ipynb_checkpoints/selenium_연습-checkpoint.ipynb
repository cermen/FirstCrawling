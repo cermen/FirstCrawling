{
 "cells": [
  {
   "cell_type": "code",
   "execution_count": 4,
   "id": "201dd708",
   "metadata": {},
   "outputs": [],
   "source": [
    "from selenium import webdriver\n",
    "from selenium.webdriver.common.keys import Keys\n",
    "from selenium.webdriver.support.ui import WebDriverWait\n",
    "from selenium.webdriver.support import expected_conditions as EC\n",
    "from selenium.webdriver.common.by import By\n",
    "\n",
    "from bs4 import BeautifulSoup\n",
    "import time"
   ]
  },
  {
   "cell_type": "code",
   "execution_count": 2,
   "id": "e5e87fdb",
   "metadata": {},
   "outputs": [],
   "source": [
    "chrome_driver = 'driver/chromedriver.exe'"
   ]
  },
  {
   "cell_type": "code",
   "execution_count": 43,
   "id": "24790a47",
   "metadata": {},
   "outputs": [],
   "source": [
    "driver = webdriver.Chrome(chrome_driver)\n",
    "\n",
    "driver.get(\"https://www.example.com\")"
   ]
  },
  {
   "cell_type": "code",
   "execution_count": 19,
   "id": "21bb907a",
   "metadata": {},
   "outputs": [],
   "source": [
    "driver = webdriver.Chrome(chrome_driver)\n",
    "driver.get('https://www.python.org')\n",
    "\n",
    "search = driver.find_element_by_id('id-search-field')\n",
    "\n",
    "search.clear()\n",
    "time.sleep(2)\n",
    "search.send_keys('lambda')\n",
    "time.sleep(2)\n",
    "search.send_keys(Keys.RETURN)\n",
    "time.sleep(2)\n",
    "driver.close()"
   ]
  },
  {
   "cell_type": "code",
   "execution_count": 14,
   "id": "4cfd98fe",
   "metadata": {},
   "outputs": [],
   "source": [
    "driver = webdriver.Chrome(chrome_driver)\n",
    "\n",
    "driver.get(\"http://www.google.com\")\n",
    "\n",
    "search_box = driver.find_element(By.NAME, 'q')\n",
    "\n",
    "search_box.send_keys('webdriver')\n",
    "time.sleep(2)\n",
    "driver.close()"
   ]
  },
  {
   "cell_type": "code",
   "execution_count": 17,
   "id": "42268f73",
   "metadata": {},
   "outputs": [
    {
     "name": "stdout",
     "output_type": "stream",
     "text": [
      "This domain is for use in illustrative examples in documents. You may use this domain in literature without prior coordination or asking for permission.\n",
      "More information...\n"
     ]
    }
   ],
   "source": [
    "driver = webdriver.Chrome(chrome_driver)\n",
    "\n",
    "driver.get(\"https://www.example.com\")\n",
    "\n",
    "element = driver.find_element(By.TAG_NAME, 'div')\n",
    "\n",
    "elements = element.find_elements(By.TAG_NAME, 'p')\n",
    "\n",
    "for e in elements:\n",
    "    print(e.text)\n",
    "\n",
    "driver.close()"
   ]
  },
  {
   "cell_type": "code",
   "execution_count": 41,
   "id": "9f474d06",
   "metadata": {},
   "outputs": [
    {
     "name": "stdout",
     "output_type": "stream",
     "text": [
      "지역 : 속초\n",
      "분류 : 즐길거리\n",
      "장소 : 얼라이브 하트\n",
      "주소 : 강원도 속초 원암학사평길 88\n",
      "\n",
      "지역 : 인제\n",
      "분류 : 즐길거리\n",
      "장소 : 속삭이는 자작나무 숲\n",
      "주소 : 강원도 인제 인제읍 자작나무숲길 760\n",
      "\n",
      "지역 : 철원\n",
      "분류 : 즐길거리\n",
      "장소 : 한탄리버스파\n",
      "주소 : 강원도 철원 동송읍 태봉로 1799-22,한탄 리버 스파 호텔\n",
      "\n",
      "지역 : 정선\n",
      "분류 : 즐길거리\n",
      "장소 : 석탄역사체험관\n",
      "주소 : 강원도 정선 사북읍 하이원길 57-3\n",
      "\n",
      "지역 : 강릉\n",
      "분류 : 즐길거리\n",
      "장소 : 사천진해변\n",
      "주소 : 강원도 강릉 사천면 사천진리\n",
      "\n",
      "지역 : 춘천\n",
      "분류 : 야간유흥\n",
      "장소 : 젝슨 빌\n",
      "주소 : 강원도 춘천 금강로62번길 8\n",
      "\n",
      "지역 : 평창\n",
      "분류 : 즐길거리\n",
      "장소 : 허브나라 농원\n",
      "주소 : 강원도 평창 봉평면 흥정계곡길 225\n",
      "\n",
      "지역 : 속초\n",
      "분류 : 투어\n",
      "장소 : 월드헤러터지넷워크\n",
      "주소 : 강원도 속초 장안로 16,속초시외버스터미널\n",
      "\n",
      "지역 : 양구\n",
      "분류 : 즐길거리\n",
      "장소 : 양구 근현대사박물관\n",
      "주소 : 강원도 양구 양구읍 하리 501\n",
      "\n",
      "지역 : 태백\n",
      "분류 : 즐길거리\n",
      "장소 : 매봉산 풍력발전단지\n",
      "주소 : 강원도 태백 화전동\n",
      "\n"
     ]
    }
   ],
   "source": [
    "driver = webdriver.Chrome(chrome_driver)\n",
    "\n",
    "driver.get(\"https://www.gangwon.to/gwtour/gangwondo_trip/tourist_spot\")\n",
    "\n",
    "button = driver.find_element_by_css_selector('.sort_tab02 > a:nth-child(3)')\n",
    "\n",
    "# 버튼 누르기\n",
    "button.click()\n",
    "\n",
    "region = driver.find_elements_by_css_selector('.box > div:nth-child(1) > span:nth-child(1)')\n",
    "category = driver.find_elements_by_css_selector('.box > div:nth-child(1) > span:nth-child(2)')\n",
    "venue = driver.find_elements_by_css_selector('.box > div:nth-child(2) > strong')\n",
    "address = driver.find_elements_by_css_selector('.box > div:nth-child(2) > span')\n",
    "for i in range(10):\n",
    "    print('지역 :', region[i].text)\n",
    "    print('분류 :', category[i].text)\n",
    "    print('장소 :', venue[i].text)\n",
    "    print('주소 :', address[i].text)\n",
    "    print()"
   ]
  },
  {
   "cell_type": "code",
   "execution_count": null,
   "id": "c6de5fb7",
   "metadata": {},
   "outputs": [],
   "source": []
  }
 ],
 "metadata": {
  "kernelspec": {
   "display_name": "Python 3",
   "language": "python",
   "name": "python3"
  },
  "language_info": {
   "codemirror_mode": {
    "name": "ipython",
    "version": 3
   },
   "file_extension": ".py",
   "mimetype": "text/x-python",
   "name": "python",
   "nbconvert_exporter": "python",
   "pygments_lexer": "ipython3",
   "version": "3.8.8"
  }
 },
 "nbformat": 4,
 "nbformat_minor": 5
}
