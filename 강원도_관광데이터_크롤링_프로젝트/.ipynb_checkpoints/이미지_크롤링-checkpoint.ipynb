{
 "cells": [
  {
   "cell_type": "code",
   "execution_count": 1,
   "id": "69165f54",
   "metadata": {},
   "outputs": [],
   "source": [
    "import requests\n",
    "from bs4 import BeautifulSoup\n",
    "from urllib.request import urlopen\n",
    "from urllib.parse import quote_plus\n",
    "import time\n",
    "\n",
    "from selenium import webdriver\n",
    "from selenium.webdriver.common.keys import Keys\n",
    "from selenium.webdriver.support.ui import WebDriverWait\n",
    "from selenium.webdriver.support import expected_conditions as EC\n",
    "from selenium.webdriver.common.by import By\n",
    "\n",
    "import openpyxl"
   ]
  },
  {
   "cell_type": "code",
   "execution_count": 4,
   "id": "cd374c73",
   "metadata": {
    "scrolled": true
   },
   "outputs": [],
   "source": [
    "wb = openpyxl.Workbook()\n",
    "sheet = wb.active\n",
    "\n",
    "sheet.append(['장소', '이미지 URL'])\n",
    "\n",
    "for i in range(8):\n",
    "    url = 'https://www.gangwon.to/gwtour/gangwondo_trip/larvateTravel?pageIndex=' + str(i + 1) + '&mode=&searchCondition=TITLE&searchKeyword='\n",
    "    page = requests.get(url)\n",
    "    soup = BeautifulSoup(page.text)\n",
    "    \n",
    "    links = soup.select('ul.nlist01 > li > a')\n",
    "    \n",
    "    for link in links:\n",
    "        sub_url = 'https://www.gangwon.to/' + link.get('href')\n",
    "        sub_page = requests.get(sub_url)\n",
    "        sub_soup = BeautifulSoup(sub_page.text)\n",
    "        \n",
    "        attr_name = sub_soup.select_one('.headerStyle1 h1')\n",
    "        a = attr_name.text\n",
    "        \n",
    "        image_urls = sub_soup.select('div.section:nth-child(2) img')\n",
    "        for image in image_urls:\n",
    "            image_url = 'https://www.gangwon.to' + image.get('src')\n",
    "            sheet.append([a, image_url])\n",
    "\n",
    "wb.save('datas/images.csv')"
   ]
  },
  {
   "cell_type": "code",
   "execution_count": 27,
   "id": "ac7247a9",
   "metadata": {
    "scrolled": false
   },
   "outputs": [],
   "source": [
    "url = 'https://www.gangwon.to/gwtour/gangwondo_trip/gangwon_tour20'\n",
    "page = requests.get(url)\n",
    "soup = BeautifulSoup(page.text)\n",
    "\n",
    "links = soup.select('ul.nlist01 > li > a')\n",
    "\n",
    "for link in links:\n",
    "    sub_url = 'https://www.gangwon.to/' + link.get('href')\n",
    "    sub_page = requests.get(sub_url)\n",
    "    sub_soup = BeautifulSoup(sub_page.text)\n",
    "\n",
    "    attr = sub_soup.select_one('.headerStyle1 h1')\n",
    "    span = attr.select_one('span')\n",
    "    _ = span.extract()\n",
    "    a = attr.text\n",
    "\n",
    "    image_urls = sub_soup.select('div.section:nth-child(2) a')\n",
    "    for image in image_urls:\n",
    "        if 'http://tourdb.gwd.go.kr/' not in image.get('href'):\n",
    "            image_url = 'https://www.gangwon.to' + image.get('href')\n",
    "        else:\n",
    "            image_url = image.get('href')\n",
    "        sheet.append([a, image_url])\n",
    "\n",
    "wb.save('datas/images.csv')"
   ]
  }
 ],
 "metadata": {
  "kernelspec": {
   "display_name": "Python 3",
   "language": "python",
   "name": "python3"
  },
  "language_info": {
   "codemirror_mode": {
    "name": "ipython",
    "version": 3
   },
   "file_extension": ".py",
   "mimetype": "text/x-python",
   "name": "python",
   "nbconvert_exporter": "python",
   "pygments_lexer": "ipython3",
   "version": "3.8.8"
  }
 },
 "nbformat": 4,
 "nbformat_minor": 5
}
