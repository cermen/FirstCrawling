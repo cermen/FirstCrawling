{
 "cells": [
  {
   "cell_type": "code",
   "execution_count": 2,
   "id": "4a1fc211",
   "metadata": {},
   "outputs": [],
   "source": [
    "# Selenium\n",
    "from selenium import webdriver\n",
    "from selenium.webdriver.common.keys import Keys\n",
    "from selenium.webdriver.support.ui import WebDriverWait\n",
    "from selenium.webdriver.support import expected_conditions as EC\n",
    "from selenium.webdriver.common.by import By\n",
    "\n",
    "# BeautifulSoup\n",
    "import requests\n",
    "from bs4 import BeautifulSoup\n",
    "\n",
    "import time\n",
    "\n",
    "# openpyxl\n",
    "import openpyxl"
   ]
  },
  {
   "cell_type": "markdown",
   "id": "880cffeb",
   "metadata": {},
   "source": [
    "### 관광지 데이터 크롤링"
   ]
  },
  {
   "cell_type": "code",
   "execution_count": 5,
   "id": "ca2510b7",
   "metadata": {},
   "outputs": [],
   "source": [
    "wb = openpyxl.Workbook()\n",
    "sheet = wb.active\n",
    "\n",
    "driver = webdriver.Chrome('chromedriver.exe')\n",
    "\n",
    "driver.get('https://www.gangwon.to/gwtour/gangwondo_trip/tourist_spot/trip_attraction')\n",
    "\n",
    "button = driver.find_element_by_css_selector('.sort_tab02 > a:nth-child(3)')\n",
    "button.click()\n",
    "\n",
    "sheet.append(['지역', '분류', '장소', '주소'])\n",
    "for i in range(20):\n",
    "    region = driver.find_elements_by_css_selector('.box > div:nth-child(1) > span:nth-child(1)')\n",
    "    category = driver.find_elements_by_css_selector('.box > div:nth-child(1) > span:nth-child(2)')\n",
    "    attr_name = driver.find_elements_by_css_selector('.box > div:nth-child(2) > strong')\n",
    "    address = driver.find_elements_by_css_selector('.box > div:nth-child(2) > span')\n",
    "    \n",
    "    for j in range(len(region)):\n",
    "        r = region[j].text\n",
    "        c = category[j].text\n",
    "        at = attr_name[j].text\n",
    "        ad = address[j].text\n",
    "        \n",
    "        sheet.append([r, c, at, ad])\n",
    "    \n",
    "    next_btn = driver.find_element_by_class_name('pager-link-data-next')\n",
    "    next_btn.click()\n",
    "\n",
    "wb.save('datas/attractions.csv')\n",
    "driver.close()"
   ]
  },
  {
   "cell_type": "code",
   "execution_count": 6,
   "id": "eb3cb102",
   "metadata": {},
   "outputs": [],
   "source": [
    "wb = openpyxl.Workbook()\n",
    "sheet = wb.active\n",
    "\n",
    "url = 'https://www.google.com/travel/things-to-do/see-all?g2lb=4258168%2C2503771%2C4641137%2C4270442%2C4515404%2C2502548%2C4317915%2C4597339%2C4605861%2C4640247%2C4371335%2C4419364%2C2503781%2C4596364%2C4624411%2C4401769%2C4306835%2C4284970%2C4270859%2C4291517&hl=ko-KR&gl=kr&ssta=1&dest_mid=%2Fm%2F01tq0k&dest_state_type=sattd&dest_src=ts&q=%EA%B0%95%EC%9B%90%EB%8F%84%20%EA%B4%80%EA%B4%91%EC%A7%80&sa=X&ved=2ahUKEwjnp7zYrufzAhUZPnAKHQ5yBsIQuL0BegQIChA4#ttdm=37.602722_127.982583_8&ttdmf=%252Fm%252F0f1_t6'\n",
    "page = requests.get(url)\n",
    "soup = BeautifulSoup(page.text)\n",
    "\n",
    "sheet.append(['장소', '평점', '설명'])\n",
    "\n",
    "attr_name = soup.select('.skFvHc')\n",
    "rating = soup.select('.KFi5wf')\n",
    "introduce = soup.select('.nFoFM')\n",
    "\n",
    "for i in range(len(attr_name)):\n",
    "    name = attr_name[i].text\n",
    "    rt = float(rating[i].text)\n",
    "    intr = introduce[i].text\n",
    "    sheet.append([name, rt, intr])\n",
    "\n",
    "wb.save('datas/attractions2.csv')"
   ]
  },
  {
   "cell_type": "markdown",
   "id": "11fa0a1a",
   "metadata": {},
   "source": [
    "### 숙박시설 데이터 크롤링"
   ]
  },
  {
   "cell_type": "code",
   "execution_count": 8,
   "id": "f3b58e59",
   "metadata": {},
   "outputs": [],
   "source": [
    "wb = openpyxl.Workbook()\n",
    "sheet = wb.active\n",
    "\n",
    "driver = webdriver.Chrome('chromedriver.exe')\n",
    "\n",
    "driver.get('https://www.gangwon.to/gwtour/gangwondo_trip/tourist_spot/trip_accommodation')\n",
    "\n",
    "button = driver.find_element_by_css_selector('.sort_tab02 > a:nth-child(3)')\n",
    "button.click()\n",
    "\n",
    "sheet.append(['지역', '분류', '상호', '주소'])\n",
    "for i in range(19):\n",
    "    region = driver.find_elements_by_css_selector('.box > div:nth-child(1) > span:nth-child(1)')\n",
    "    category = driver.find_elements_by_css_selector('.box > div:nth-child(1) > span:nth-child(2)')\n",
    "    accm_name = driver.find_elements_by_css_selector('.box > div:nth-child(2) > strong')\n",
    "    address = driver.find_elements_by_css_selector('.box > div:nth-child(2) > span')\n",
    "    \n",
    "    for j in range(len(region)):\n",
    "        r = region[j].text\n",
    "        c = category[j].text\n",
    "        ac = accm_name[j].text\n",
    "        ad = address[j].text\n",
    "        sheet.append([r, c, ac, ad])\n",
    "    \n",
    "    next_btn = driver.find_element_by_class_name('pager-link-data-next')\n",
    "    next_btn.click()\n",
    "\n",
    "wb.save('datas/accommodations.csv')\n",
    "driver.close()"
   ]
  },
  {
   "cell_type": "code",
   "execution_count": 71,
   "id": "e773566d",
   "metadata": {
    "scrolled": true
   },
   "outputs": [],
   "source": [
    "wb = openpyxl.Workbook()\n",
    "sheet = wb.active\n",
    "\n",
    "driver = webdriver.Chrome('chromedriver.exe')\n",
    "\n",
    "url = 'https://hotel.naver.com/hotels/list?destination=place:Gangwon_Province&rooms=2'\n",
    "driver.get(url)\n",
    "\n",
    "sheet.append(['상호', '지역', '평점'])\n",
    "for i in range(100):\n",
    "    time.sleep(1.5)\n",
    "    hotel_list = driver.find_elements_by_css_selector('ul.lst_hotel > li')\n",
    "        \n",
    "    accm_name = driver.find_elements_by_css_selector('ul.lst_hotel > li .hotel_name_ko')\n",
    "    region = driver.find_elements_by_css_selector('ul.lst_hotel > li .instance.sp_hotel_bf.ng-binding')[1::3]\n",
    "    rating = driver.find_elements_by_css_selector('ul.lst_hotel > li .star_txt.ng-binding')\n",
    "    \n",
    "    for j in range(len(hotel_list)):\n",
    "        an = accm_name[j].text\n",
    "        rg = region[j].text.split(', ')[0]\n",
    "        rt = rating[j].text\n",
    "        sheet.append([an, rg, rt])\n",
    "    \n",
    "    next_btn = driver.find_elements_by_css_selector('.next')\n",
    "    for btn in next_btn:\n",
    "        btn.click()\n",
    "\n",
    "wb.save('datas/accommodations2.csv')\n",
    "driver.close()"
   ]
  },
  {
   "cell_type": "markdown",
   "id": "0d5ba1a5",
   "metadata": {},
   "source": [
    "### 맛집 데이터 크롤링"
   ]
  },
  {
   "cell_type": "code",
   "execution_count": 9,
   "id": "de5fbef2",
   "metadata": {},
   "outputs": [],
   "source": [
    "wb = openpyxl.Workbook()\n",
    "sheet = wb.active\n",
    "\n",
    "driver = webdriver.Chrome('chromedriver.exe')\n",
    "\n",
    "driver.get('https://www.gangwon.to/gwtour/gangwondo_trip/tourist_spot/trip_eatery')\n",
    "\n",
    "button = driver.find_element_by_css_selector('.sort_tab02 > a:nth-child(3)')\n",
    "button.click()\n",
    "\n",
    "sheet.append(['지역', '상호', '주소'])\n",
    "for i in range(28):\n",
    "    region = driver.find_elements_by_css_selector('.box > div:nth-child(1) > span')\n",
    "    eat_name = driver.find_elements_by_css_selector('.box > div:nth-child(2) > strong')\n",
    "    address = driver.find_elements_by_css_selector('.box > div:nth-child(2) > span')\n",
    "    \n",
    "    for j in range(len(region)):\n",
    "        r = region[j].text\n",
    "        e = eat_name[j].text\n",
    "        ad = address[j].text\n",
    "        sheet.append([r, e, ad])\n",
    "    \n",
    "    next_btn = driver.find_element_by_class_name('pager-link-data-next')\n",
    "    next_btn.click()\n",
    "\n",
    "wb.save('datas/eateries.csv')\n",
    "driver.close()"
   ]
  }
 ],
 "metadata": {
  "kernelspec": {
   "display_name": "Python 3",
   "language": "python",
   "name": "python3"
  },
  "language_info": {
   "codemirror_mode": {
    "name": "ipython",
    "version": 3
   },
   "file_extension": ".py",
   "mimetype": "text/x-python",
   "name": "python",
   "nbconvert_exporter": "python",
   "pygments_lexer": "ipython3",
   "version": "3.8.8"
  }
 },
 "nbformat": 4,
 "nbformat_minor": 5
}
